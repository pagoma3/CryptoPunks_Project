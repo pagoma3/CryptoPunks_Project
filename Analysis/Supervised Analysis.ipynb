{
 "cells": [
  {
   "cell_type": "code",
   "execution_count": 1,
   "id": "9e2eaec1",
   "metadata": {
    "ExecuteTime": {
     "end_time": "2021-09-16T14:54:01.751529Z",
     "start_time": "2021-09-16T14:53:58.047167Z"
    }
   },
   "outputs": [],
   "source": [
    "import pandas as pd\n",
    "import seaborn as sns\n",
    "import numpy as np\n",
    "import matplotlib.pyplot as plt\n",
    "\n",
    "import sklearn as skl\n",
    "\n",
    "import statsmodels.api as sm\n",
    "from statsmodels.formula.api import ols\n",
    "\n",
    "import scipy.stats as stats\n"
   ]
  },
  {
   "cell_type": "code",
   "execution_count": 2,
   "id": "3c798ba6",
   "metadata": {
    "ExecuteTime": {
     "end_time": "2021-09-16T14:54:01.815310Z",
     "start_time": "2021-09-16T14:54:01.767878Z"
    }
   },
   "outputs": [],
   "source": [
    "df = pd.read_csv(\"dfanova_new.csv\")\n",
    "\n",
    "new_df = df[[\"Cluster\", \"rentabilidad_usd\"]]"
   ]
  },
  {
   "cell_type": "code",
   "execution_count": 3,
   "id": "8dcd16ca",
   "metadata": {
    "ExecuteTime": {
     "end_time": "2021-09-16T14:54:01.855130Z",
     "start_time": "2021-09-16T14:54:01.820228Z"
    }
   },
   "outputs": [
    {
     "data": {
      "text/html": [
       "<div>\n",
       "<style scoped>\n",
       "    .dataframe tbody tr th:only-of-type {\n",
       "        vertical-align: middle;\n",
       "    }\n",
       "\n",
       "    .dataframe tbody tr th {\n",
       "        vertical-align: top;\n",
       "    }\n",
       "\n",
       "    .dataframe thead th {\n",
       "        text-align: right;\n",
       "    }\n",
       "</style>\n",
       "<table border=\"1\" class=\"dataframe\">\n",
       "  <thead>\n",
       "    <tr style=\"text-align: right;\">\n",
       "      <th>Cluster</th>\n",
       "      <th>0</th>\n",
       "      <th>1</th>\n",
       "      <th>2</th>\n",
       "      <th>3</th>\n",
       "      <th>4</th>\n",
       "      <th>5</th>\n",
       "      <th>6</th>\n",
       "    </tr>\n",
       "  </thead>\n",
       "  <tbody>\n",
       "    <tr>\n",
       "      <th>0</th>\n",
       "      <td>NaN</td>\n",
       "      <td>NaN</td>\n",
       "      <td>NaN</td>\n",
       "      <td>2436.0</td>\n",
       "      <td>NaN</td>\n",
       "      <td>NaN</td>\n",
       "      <td>NaN</td>\n",
       "    </tr>\n",
       "    <tr>\n",
       "      <th>1</th>\n",
       "      <td>NaN</td>\n",
       "      <td>NaN</td>\n",
       "      <td>NaN</td>\n",
       "      <td>NaN</td>\n",
       "      <td>31150.0</td>\n",
       "      <td>NaN</td>\n",
       "      <td>NaN</td>\n",
       "    </tr>\n",
       "    <tr>\n",
       "      <th>2</th>\n",
       "      <td>-117.0</td>\n",
       "      <td>NaN</td>\n",
       "      <td>NaN</td>\n",
       "      <td>NaN</td>\n",
       "      <td>NaN</td>\n",
       "      <td>NaN</td>\n",
       "      <td>NaN</td>\n",
       "    </tr>\n",
       "    <tr>\n",
       "      <th>3</th>\n",
       "      <td>NaN</td>\n",
       "      <td>NaN</td>\n",
       "      <td>105.0</td>\n",
       "      <td>NaN</td>\n",
       "      <td>NaN</td>\n",
       "      <td>NaN</td>\n",
       "      <td>NaN</td>\n",
       "    </tr>\n",
       "    <tr>\n",
       "      <th>4</th>\n",
       "      <td>NaN</td>\n",
       "      <td>NaN</td>\n",
       "      <td>NaN</td>\n",
       "      <td>NaN</td>\n",
       "      <td>NaN</td>\n",
       "      <td>NaN</td>\n",
       "      <td>389873.0</td>\n",
       "    </tr>\n",
       "  </tbody>\n",
       "</table>\n",
       "</div>"
      ],
      "text/plain": [
       "Cluster      0   1      2       3        4   5         6\n",
       "0          NaN NaN    NaN  2436.0      NaN NaN       NaN\n",
       "1          NaN NaN    NaN     NaN  31150.0 NaN       NaN\n",
       "2       -117.0 NaN    NaN     NaN      NaN NaN       NaN\n",
       "3          NaN NaN  105.0     NaN      NaN NaN       NaN\n",
       "4          NaN NaN    NaN     NaN      NaN NaN  389873.0"
      ]
     },
     "execution_count": 3,
     "metadata": {},
     "output_type": "execute_result"
    }
   ],
   "source": [
    "######################################## ANOVA Analysis ##############################################\n",
    "\n",
    "# Pivot so that classes are the columns:\n",
    "\n",
    "new_df = new_df.pivot(columns=\"Cluster\", values=\"rentabilidad_usd\")\n",
    "\n",
    "new_df.head()\n"
   ]
  },
  {
   "cell_type": "code",
   "execution_count": 4,
   "id": "6e0e0cd9",
   "metadata": {
    "ExecuteTime": {
     "end_time": "2021-09-16T14:54:01.885071Z",
     "start_time": "2021-09-16T14:54:01.869217Z"
    }
   },
   "outputs": [],
   "source": [
    "series = []\n",
    "\n",
    "for i in range(7):\n",
    "    series.append(new_df[i])"
   ]
  },
  {
   "cell_type": "code",
   "execution_count": 5,
   "id": "2c967c3a",
   "metadata": {
    "ExecuteTime": {
     "end_time": "2021-09-16T14:54:02.123286Z",
     "start_time": "2021-09-16T14:54:01.945683Z"
    }
   },
   "outputs": [],
   "source": [
    "# Drop NaNs\n",
    "\n",
    "series[0] = [x for x in series[0] if pd.isnull(x) == False]\n",
    "series[1] = [x for x in series[1] if pd.isnull(x) == False]\n",
    "series[2] = [x for x in series[2] if pd.isnull(x) == False]\n",
    "series[3] = [x for x in series[3] if pd.isnull(x) == False]\n",
    "series[4] = [x for x in series[4] if pd.isnull(x) == False]\n",
    "series[5] = [x for x in series[5] if pd.isnull(x) == False]\n",
    "series[6] = [x for x in series[6] if pd.isnull(x) == False]\n"
   ]
  },
  {
   "cell_type": "code",
   "execution_count": 6,
   "id": "d98eb568",
   "metadata": {
    "ExecuteTime": {
     "end_time": "2021-09-16T14:54:02.137324Z",
     "start_time": "2021-09-16T14:54:02.127932Z"
    }
   },
   "outputs": [
    {
     "name": "stdout",
     "output_type": "stream",
     "text": [
      "628\n",
      "383\n",
      "1242\n",
      "674\n",
      "1106\n",
      "1221\n",
      "909\n"
     ]
    }
   ],
   "source": [
    "# Check for length:\n",
    "\n",
    "for i in range(7):\n",
    "    print(len(series[i]))"
   ]
  },
  {
   "cell_type": "code",
   "execution_count": 7,
   "id": "dab66948",
   "metadata": {
    "ExecuteTime": {
     "end_time": "2021-09-16T14:54:02.415418Z",
     "start_time": "2021-09-16T14:54:02.143468Z"
    }
   },
   "outputs": [
    {
     "data": {
      "text/html": [
       "<div>\n",
       "<style scoped>\n",
       "    .dataframe tbody tr th:only-of-type {\n",
       "        vertical-align: middle;\n",
       "    }\n",
       "\n",
       "    .dataframe tbody tr th {\n",
       "        vertical-align: top;\n",
       "    }\n",
       "\n",
       "    .dataframe thead th {\n",
       "        text-align: right;\n",
       "    }\n",
       "</style>\n",
       "<table border=\"1\" class=\"dataframe\">\n",
       "  <thead>\n",
       "    <tr style=\"text-align: right;\">\n",
       "      <th></th>\n",
       "      <th>0</th>\n",
       "      <th>1</th>\n",
       "      <th>2</th>\n",
       "      <th>3</th>\n",
       "      <th>4</th>\n",
       "      <th>5</th>\n",
       "      <th>6</th>\n",
       "      <th>7</th>\n",
       "      <th>8</th>\n",
       "      <th>9</th>\n",
       "      <th>...</th>\n",
       "      <th>1232</th>\n",
       "      <th>1233</th>\n",
       "      <th>1234</th>\n",
       "      <th>1235</th>\n",
       "      <th>1236</th>\n",
       "      <th>1237</th>\n",
       "      <th>1238</th>\n",
       "      <th>1239</th>\n",
       "      <th>1240</th>\n",
       "      <th>1241</th>\n",
       "    </tr>\n",
       "  </thead>\n",
       "  <tbody>\n",
       "    <tr>\n",
       "      <th>0</th>\n",
       "      <td>-117.0</td>\n",
       "      <td>2760.0</td>\n",
       "      <td>227.0</td>\n",
       "      <td>42728.0</td>\n",
       "      <td>249101.0</td>\n",
       "      <td>53463.0</td>\n",
       "      <td>47886.0</td>\n",
       "      <td>137913.0</td>\n",
       "      <td>28726.0</td>\n",
       "      <td>173.0</td>\n",
       "      <td>...</td>\n",
       "      <td>NaN</td>\n",
       "      <td>NaN</td>\n",
       "      <td>NaN</td>\n",
       "      <td>NaN</td>\n",
       "      <td>NaN</td>\n",
       "      <td>NaN</td>\n",
       "      <td>NaN</td>\n",
       "      <td>NaN</td>\n",
       "      <td>NaN</td>\n",
       "      <td>NaN</td>\n",
       "    </tr>\n",
       "    <tr>\n",
       "      <th>1</th>\n",
       "      <td>61662.0</td>\n",
       "      <td>344382.0</td>\n",
       "      <td>-56.0</td>\n",
       "      <td>39862.0</td>\n",
       "      <td>62862.0</td>\n",
       "      <td>71472.0</td>\n",
       "      <td>154.0</td>\n",
       "      <td>84435.0</td>\n",
       "      <td>65101.0</td>\n",
       "      <td>342393.0</td>\n",
       "      <td>...</td>\n",
       "      <td>NaN</td>\n",
       "      <td>NaN</td>\n",
       "      <td>NaN</td>\n",
       "      <td>NaN</td>\n",
       "      <td>NaN</td>\n",
       "      <td>NaN</td>\n",
       "      <td>NaN</td>\n",
       "      <td>NaN</td>\n",
       "      <td>NaN</td>\n",
       "      <td>NaN</td>\n",
       "    </tr>\n",
       "    <tr>\n",
       "      <th>2</th>\n",
       "      <td>105.0</td>\n",
       "      <td>58285.0</td>\n",
       "      <td>105955.0</td>\n",
       "      <td>425035.0</td>\n",
       "      <td>138310.0</td>\n",
       "      <td>53782.0</td>\n",
       "      <td>232530.0</td>\n",
       "      <td>10393.0</td>\n",
       "      <td>304.0</td>\n",
       "      <td>56120.0</td>\n",
       "      <td>...</td>\n",
       "      <td>90065.0</td>\n",
       "      <td>308735.0</td>\n",
       "      <td>11151.0</td>\n",
       "      <td>488088.0</td>\n",
       "      <td>66.0</td>\n",
       "      <td>14972.0</td>\n",
       "      <td>109.0</td>\n",
       "      <td>38936.0</td>\n",
       "      <td>7236.0</td>\n",
       "      <td>5920.0</td>\n",
       "    </tr>\n",
       "    <tr>\n",
       "      <th>3</th>\n",
       "      <td>2436.0</td>\n",
       "      <td>63065.0</td>\n",
       "      <td>42556.0</td>\n",
       "      <td>21834.0</td>\n",
       "      <td>16670.0</td>\n",
       "      <td>-1094.0</td>\n",
       "      <td>26271.0</td>\n",
       "      <td>155819.0</td>\n",
       "      <td>105043.0</td>\n",
       "      <td>42306.0</td>\n",
       "      <td>...</td>\n",
       "      <td>NaN</td>\n",
       "      <td>NaN</td>\n",
       "      <td>NaN</td>\n",
       "      <td>NaN</td>\n",
       "      <td>NaN</td>\n",
       "      <td>NaN</td>\n",
       "      <td>NaN</td>\n",
       "      <td>NaN</td>\n",
       "      <td>NaN</td>\n",
       "      <td>NaN</td>\n",
       "    </tr>\n",
       "    <tr>\n",
       "      <th>4</th>\n",
       "      <td>31150.0</td>\n",
       "      <td>15341.0</td>\n",
       "      <td>28368.0</td>\n",
       "      <td>42233.0</td>\n",
       "      <td>50357.0</td>\n",
       "      <td>7375.0</td>\n",
       "      <td>368619.0</td>\n",
       "      <td>9556.0</td>\n",
       "      <td>47846.0</td>\n",
       "      <td>-29970.0</td>\n",
       "      <td>...</td>\n",
       "      <td>NaN</td>\n",
       "      <td>NaN</td>\n",
       "      <td>NaN</td>\n",
       "      <td>NaN</td>\n",
       "      <td>NaN</td>\n",
       "      <td>NaN</td>\n",
       "      <td>NaN</td>\n",
       "      <td>NaN</td>\n",
       "      <td>NaN</td>\n",
       "      <td>NaN</td>\n",
       "    </tr>\n",
       "    <tr>\n",
       "      <th>5</th>\n",
       "      <td>7340.0</td>\n",
       "      <td>129827.0</td>\n",
       "      <td>26685.0</td>\n",
       "      <td>31455.0</td>\n",
       "      <td>151271.0</td>\n",
       "      <td>-16022.0</td>\n",
       "      <td>542629.0</td>\n",
       "      <td>90.0</td>\n",
       "      <td>466768.0</td>\n",
       "      <td>99459.0</td>\n",
       "      <td>...</td>\n",
       "      <td>NaN</td>\n",
       "      <td>NaN</td>\n",
       "      <td>NaN</td>\n",
       "      <td>NaN</td>\n",
       "      <td>NaN</td>\n",
       "      <td>NaN</td>\n",
       "      <td>NaN</td>\n",
       "      <td>NaN</td>\n",
       "      <td>NaN</td>\n",
       "      <td>NaN</td>\n",
       "    </tr>\n",
       "    <tr>\n",
       "      <th>6</th>\n",
       "      <td>389873.0</td>\n",
       "      <td>33029.0</td>\n",
       "      <td>29367.0</td>\n",
       "      <td>26201.0</td>\n",
       "      <td>719.0</td>\n",
       "      <td>229.0</td>\n",
       "      <td>11417.0</td>\n",
       "      <td>61118.0</td>\n",
       "      <td>1168.0</td>\n",
       "      <td>14816.0</td>\n",
       "      <td>...</td>\n",
       "      <td>NaN</td>\n",
       "      <td>NaN</td>\n",
       "      <td>NaN</td>\n",
       "      <td>NaN</td>\n",
       "      <td>NaN</td>\n",
       "      <td>NaN</td>\n",
       "      <td>NaN</td>\n",
       "      <td>NaN</td>\n",
       "      <td>NaN</td>\n",
       "      <td>NaN</td>\n",
       "    </tr>\n",
       "  </tbody>\n",
       "</table>\n",
       "<p>7 rows × 1242 columns</p>\n",
       "</div>"
      ],
      "text/plain": [
       "       0         1         2         3         4        5         6     \\\n",
       "0    -117.0    2760.0     227.0   42728.0  249101.0  53463.0   47886.0   \n",
       "1   61662.0  344382.0     -56.0   39862.0   62862.0  71472.0     154.0   \n",
       "2     105.0   58285.0  105955.0  425035.0  138310.0  53782.0  232530.0   \n",
       "3    2436.0   63065.0   42556.0   21834.0   16670.0  -1094.0   26271.0   \n",
       "4   31150.0   15341.0   28368.0   42233.0   50357.0   7375.0  368619.0   \n",
       "5    7340.0  129827.0   26685.0   31455.0  151271.0 -16022.0  542629.0   \n",
       "6  389873.0   33029.0   29367.0   26201.0     719.0    229.0   11417.0   \n",
       "\n",
       "       7         8         9     ...     1232      1233     1234      1235  \\\n",
       "0  137913.0   28726.0     173.0  ...      NaN       NaN      NaN       NaN   \n",
       "1   84435.0   65101.0  342393.0  ...      NaN       NaN      NaN       NaN   \n",
       "2   10393.0     304.0   56120.0  ...  90065.0  308735.0  11151.0  488088.0   \n",
       "3  155819.0  105043.0   42306.0  ...      NaN       NaN      NaN       NaN   \n",
       "4    9556.0   47846.0  -29970.0  ...      NaN       NaN      NaN       NaN   \n",
       "5      90.0  466768.0   99459.0  ...      NaN       NaN      NaN       NaN   \n",
       "6   61118.0    1168.0   14816.0  ...      NaN       NaN      NaN       NaN   \n",
       "\n",
       "   1236     1237   1238     1239    1240    1241  \n",
       "0   NaN      NaN    NaN      NaN     NaN     NaN  \n",
       "1   NaN      NaN    NaN      NaN     NaN     NaN  \n",
       "2  66.0  14972.0  109.0  38936.0  7236.0  5920.0  \n",
       "3   NaN      NaN    NaN      NaN     NaN     NaN  \n",
       "4   NaN      NaN    NaN      NaN     NaN     NaN  \n",
       "5   NaN      NaN    NaN      NaN     NaN     NaN  \n",
       "6   NaN      NaN    NaN      NaN     NaN     NaN  \n",
       "\n",
       "[7 rows x 1242 columns]"
      ]
     },
     "execution_count": 7,
     "metadata": {},
     "output_type": "execute_result"
    }
   ],
   "source": [
    "good_df = pd.DataFrame(series)\n",
    "\n",
    "good_df.head(7)"
   ]
  },
  {
   "cell_type": "code",
   "execution_count": 8,
   "id": "4d0bbbb9",
   "metadata": {
    "ExecuteTime": {
     "end_time": "2021-09-16T14:54:02.434833Z",
     "start_time": "2021-09-16T14:54:02.422583Z"
    }
   },
   "outputs": [
    {
     "data": {
      "text/plain": [
       "(7, 1242)"
      ]
     },
     "execution_count": 8,
     "metadata": {},
     "output_type": "execute_result"
    }
   ],
   "source": [
    "good_df.shape"
   ]
  },
  {
   "cell_type": "code",
   "execution_count": 9,
   "id": "ab6b326e",
   "metadata": {
    "ExecuteTime": {
     "end_time": "2021-09-16T14:54:02.464268Z",
     "start_time": "2021-09-16T14:54:02.453313Z"
    }
   },
   "outputs": [],
   "source": [
    "good_df = good_df.transpose()"
   ]
  },
  {
   "cell_type": "code",
   "execution_count": 10,
   "id": "92b26ea3",
   "metadata": {
    "ExecuteTime": {
     "end_time": "2021-09-16T14:54:02.487578Z",
     "start_time": "2021-09-16T14:54:02.475208Z"
    }
   },
   "outputs": [
    {
     "data": {
      "text/plain": [
       "(1242, 7)"
      ]
     },
     "execution_count": 10,
     "metadata": {},
     "output_type": "execute_result"
    }
   ],
   "source": [
    "good_df.shape"
   ]
  },
  {
   "cell_type": "code",
   "execution_count": 11,
   "id": "4486f518",
   "metadata": {
    "ExecuteTime": {
     "end_time": "2021-09-16T14:54:02.510710Z",
     "start_time": "2021-09-16T14:54:02.493961Z"
    }
   },
   "outputs": [],
   "source": [
    "# Fill null values\n",
    "\n",
    "for i in range(7):\n",
    "    mean_value=good_df[i].mean()\n",
    "    good_df[i].fillna(value=good_df[i].mean(), inplace=True)"
   ]
  },
  {
   "cell_type": "code",
   "execution_count": 12,
   "id": "30b6eb8d",
   "metadata": {
    "ExecuteTime": {
     "end_time": "2021-09-16T14:54:02.535987Z",
     "start_time": "2021-09-16T14:54:02.517151Z"
    }
   },
   "outputs": [
    {
     "name": "stdout",
     "output_type": "stream",
     "text": [
      "                  0              1         2             3             4  \\\n",
      "0       -117.000000   61662.000000     105.0   2436.000000  31150.000000   \n",
      "1       2760.000000  344382.000000   58285.0  63065.000000  15341.000000   \n",
      "2        227.000000     -56.000000  105955.0  42556.000000  28368.000000   \n",
      "3      42728.000000   39862.000000  425035.0  21834.000000  42233.000000   \n",
      "4     249101.000000   62862.000000  138310.0  16670.000000  50357.000000   \n",
      "...             ...            ...       ...           ...           ...   \n",
      "1237   63091.867834   69257.013055   14972.0  62756.879822  62820.547007   \n",
      "1238   63091.867834   69257.013055     109.0  62756.879822  62820.547007   \n",
      "1239   63091.867834   69257.013055   38936.0  62756.879822  62820.547007   \n",
      "1240   63091.867834   69257.013055    7236.0  62756.879822  62820.547007   \n",
      "1241   63091.867834   69257.013055    5920.0  62756.879822  62820.547007   \n",
      "\n",
      "                  5             6  \n",
      "0       7340.000000  389873.00000  \n",
      "1     129827.000000   33029.00000  \n",
      "2      26685.000000   29367.00000  \n",
      "3      31455.000000   26201.00000  \n",
      "4     151271.000000     719.00000  \n",
      "...             ...           ...  \n",
      "1237   59117.564275   71857.32121  \n",
      "1238   59117.564275   71857.32121  \n",
      "1239   59117.564275   71857.32121  \n",
      "1240   59117.564275   71857.32121  \n",
      "1241   59117.564275   71857.32121  \n",
      "\n",
      "[1242 rows x 7 columns]\n"
     ]
    }
   ],
   "source": [
    "print(good_df)"
   ]
  },
  {
   "cell_type": "code",
   "execution_count": 13,
   "id": "5a947e4e",
   "metadata": {
    "ExecuteTime": {
     "end_time": "2021-09-16T14:54:02.553725Z",
     "start_time": "2021-09-16T14:54:02.540735Z"
    }
   },
   "outputs": [
    {
     "name": "stdout",
     "output_type": "stream",
     "text": [
      "2.4380344747663147 0.023433893112453804\n"
     ]
    }
   ],
   "source": [
    "# ANOVA analysis\n",
    "\n",
    "fvalue, pvalue = stats.f_oneway(good_df[0], good_df[1], good_df[2], good_df[3], good_df[4], good_df[5], good_df[6])\n",
    "print(fvalue, pvalue)"
   ]
  },
  {
   "cell_type": "code",
   "execution_count": 14,
   "id": "c5196f92",
   "metadata": {
    "ExecuteTime": {
     "end_time": "2021-09-16T14:54:02.565204Z",
     "start_time": "2021-09-16T14:54:02.559664Z"
    }
   },
   "outputs": [],
   "source": [
    "# Figure 23: SALE VALUE\n",
    "\n",
    "# Replacing with average\n",
    "# 2.9533474945171285 p = 0.007010181844102753\n",
    "\n",
    "# Replacing with median\n",
    "# 17.608762400176733 p = 2.223983671508818e-20\n",
    "\n",
    "\n",
    "# Figure 24: PROFITABILITY\n",
    "\n",
    "# Replacing with average\n",
    "# 2.4380344747663147 0.023433893112453804\n",
    "\n",
    "# Replacing with median\n",
    "# 17.66123493384489 1.9146669966000232e-20\n"
   ]
  },
  {
   "cell_type": "code",
   "execution_count": 15,
   "id": "b67025dc",
   "metadata": {
    "ExecuteTime": {
     "end_time": "2021-09-16T14:54:03.080201Z",
     "start_time": "2021-09-16T14:54:02.572894Z"
    }
   },
   "outputs": [
    {
     "name": "stdout",
     "output_type": "stream",
     "text": [
      "     Multiple Comparison of Means - Tukey HSD, FWER=0.05      \n",
      "==============================================================\n",
      "group1 group2   meandiff  p-adj     lower      upper    reject\n",
      "--------------------------------------------------------------\n",
      "     0      1   6165.1452    0.9 -16149.1271 28479.4175  False\n",
      "     0      2   2628.7103    0.9 -14223.8754 19481.2959  False\n",
      "     0      3    -334.988    0.9 -19423.9398 18753.9638  False\n",
      "     0      4   -271.3208    0.9 -17468.3537  16925.712  False\n",
      "     0      5  -3974.3036    0.9 -20875.4888 12926.8816  False\n",
      "     0      6   8765.4534 0.7483  -9093.7272  26624.634  False\n",
      "     1      2   -3536.435    0.9 -23652.9551 16580.0852  False\n",
      "     1      3  -6500.1332    0.9  -28524.048 15523.7815  False\n",
      "     1      4   -6436.466    0.9 -26842.4132 13969.4811  False\n",
      "     1      5 -10139.4488 0.7271 -30296.7006 10017.8031  False\n",
      "     1      6   2600.3082    0.9 -18366.6915 23567.3078  False\n",
      "     2      3  -2963.6983    0.9 -19429.8975 13502.5009  False\n",
      "     2      4  -2900.0311    0.9 -17129.7737 11329.7115  False\n",
      "     2      5  -6603.0138 0.7739 -20473.7635  7267.7359  False\n",
      "     2      6   6136.7431  0.891  -8886.5045 21159.9907  False\n",
      "     3      4     63.6672    0.9 -16754.8944 16882.2287  False\n",
      "     3      5  -3639.3155    0.9 -20155.2513 12876.6203  False\n",
      "     3      6   9100.4414 0.6974  -8394.5981 26595.4809  False\n",
      "     4      5  -3702.9827    0.9 -17990.2495 10584.2841  False\n",
      "     4      6   9036.7742 0.5825  -6371.8683 24445.4167  False\n",
      "     5      6  12739.7569 0.1623  -2337.9878 27817.5017  False\n",
      "--------------------------------------------------------------\n"
     ]
    }
   ],
   "source": [
    "# Figure 25: Tukey test results for profitability\n",
    "\n",
    "from statsmodels.stats.multicomp import pairwise_tukeyhsd\n",
    "\n",
    "tukey = pairwise_tukeyhsd(endog=df['rentabilidad_usd'],\n",
    "                          groups=df['Cluster'],\n",
    "                          alpha=0.05)\n",
    "\n",
    "print(tukey)"
   ]
  },
  {
   "cell_type": "code",
   "execution_count": 16,
   "id": "9f4e902f",
   "metadata": {
    "ExecuteTime": {
     "end_time": "2021-09-16T14:54:03.565182Z",
     "start_time": "2021-09-16T14:54:03.094804Z"
    }
   },
   "outputs": [
    {
     "name": "stdout",
     "output_type": "stream",
     "text": [
      "     Multiple Comparison of Means - Tukey HSD, FWER=0.05      \n",
      "==============================================================\n",
      "group1 group2   meandiff  p-adj     lower      upper    reject\n",
      "--------------------------------------------------------------\n",
      "     0      1   2747.8362    0.9 -26023.8346  31519.507  False\n",
      "     0      2  -1643.5268    0.9 -23372.9849 20085.9314  False\n",
      "     0      3  -7662.4617    0.9 -32275.4551 16950.5318  False\n",
      "     0      4   4252.9501    0.9 -17920.6328 26426.5331  False\n",
      "     0      5 -10801.9316 0.7399 -32594.0534 10990.1901  False\n",
      "     0      6   5739.3504    0.9 -17287.9954 28766.6963  False\n",
      "     1      2  -4391.3629    0.9 -30329.2868  21546.561  False\n",
      "     1      3 -10410.2979    0.9 -38807.5863 17986.9906  False\n",
      "     1      4   1505.1139    0.9 -24805.9926 27816.2204  False\n",
      "     1      5 -13549.7678 0.6954 -39540.2105 12440.6749  False\n",
      "     1      6   2991.5143    0.9 -24043.0044  30026.033  False\n",
      "     2      3  -6018.9349    0.9 -27250.1925 15212.3227  False\n",
      "     2      4   5896.4769    0.9 -12451.1288 24244.0826  False\n",
      "     2      5  -9158.4049 0.7114 -27043.1309  8726.3211  False\n",
      "     2      6   7382.8772    0.9 -11987.8614 26753.6158  False\n",
      "     3      4  11915.4118 0.6466  -9770.1762 33600.9998  False\n",
      "     3      5    -3139.47    0.9 -24434.8572 18155.9172  False\n",
      "     3      6  13401.8121 0.5692  -9156.0159 35959.6401  False\n",
      "     4      5 -15054.8818 0.1941 -33476.6583  3366.8948  False\n",
      "     4      6   1486.4003    0.9 -18381.2604  21354.061  False\n",
      "     5      6  16541.2821 0.1559  -2899.7243 35982.2884  False\n",
      "--------------------------------------------------------------\n"
     ]
    }
   ],
   "source": [
    "# Figure 26: Tukey test for sale price\n",
    "\n",
    "tukey = pairwise_tukeyhsd(endog=df['venta_usd'],\n",
    "                          groups=df['Cluster'],\n",
    "                          alpha=0.05)\n",
    "\n",
    "print(tukey)"
   ]
  }
 ],
 "metadata": {
  "kernelspec": {
   "display_name": "Python 3",
   "language": "python",
   "name": "python3"
  },
  "language_info": {
   "codemirror_mode": {
    "name": "ipython",
    "version": 3
   },
   "file_extension": ".py",
   "mimetype": "text/x-python",
   "name": "python",
   "nbconvert_exporter": "python",
   "pygments_lexer": "ipython3",
   "version": "3.8.8"
  },
  "varInspector": {
   "cols": {
    "lenName": 16,
    "lenType": 16,
    "lenVar": 40
   },
   "kernels_config": {
    "python": {
     "delete_cmd_postfix": "",
     "delete_cmd_prefix": "del ",
     "library": "var_list.py",
     "varRefreshCmd": "print(var_dic_list())"
    },
    "r": {
     "delete_cmd_postfix": ") ",
     "delete_cmd_prefix": "rm(",
     "library": "var_list.r",
     "varRefreshCmd": "cat(var_dic_list()) "
    }
   },
   "types_to_exclude": [
    "module",
    "function",
    "builtin_function_or_method",
    "instance",
    "_Feature"
   ],
   "window_display": false
  }
 },
 "nbformat": 4,
 "nbformat_minor": 5
}
