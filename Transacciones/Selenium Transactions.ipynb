{
 "cells": [
  {
   "cell_type": "code",
   "execution_count": 1,
   "id": "f1dfb7e2",
   "metadata": {
    "ExecuteTime": {
     "end_time": "2021-09-07T11:01:06.518732Z",
     "start_time": "2021-09-07T11:01:06.265429Z"
    }
   },
   "outputs": [],
   "source": [
    "# Import relevant Selenium modules:\n",
    "\n",
    "from selenium import webdriver\n",
    "from selenium.webdriver.support.ui import WebDriverWait as wait\n",
    "from selenium.webdriver.support import expected_conditions as EC\n",
    "from selenium.webdriver.common.by import By"
   ]
  },
  {
   "cell_type": "code",
   "execution_count": 5,
   "id": "8eac6639",
   "metadata": {
    "ExecuteTime": {
     "end_time": "2021-09-07T11:04:38.705765Z",
     "start_time": "2021-09-07T11:04:32.096364Z"
    }
   },
   "outputs": [
    {
     "name": "stdout",
     "output_type": "stream",
     "text": [
      "['Bid withdrawn', '0x983ace', '', '250.0Ξ', 'May 10, 2021 0x0987ef', 'Bid', '0x983ace', '', '250.0Ξ', 'Apr 11, 2021 0xdbf1a0', 'Bid withdrawn', '0xd7510a', '', '100.0Ξ', 'Mar 3, 2021 0x580c05', 'Bid', '0xd7510a', '', '100.0Ξ', 'Feb 21, 2021 0x5377c3', 'Bid withdrawn', '0x63a9db', '', '69.0Ξ', 'Sep 16, 2020 0xbce1fe', 'Bid', '0x63a9db', '', '69.0Ξ', 'Sep 15, 2020 0x140f1a', 'Bid withdrawn', '0x63a9db', '', '49.0Ξ', 'Jan 11, 2020 0x9f42a4', 'Bid', '0x63a9db', '', '49.0Ξ', 'Jan 9, 2020 0x2cfa7c', 'Bid withdrawn', '0x63a9db', '', '44.0Ξ', 'Jan 8, 2020 0x7fbe84', 'Bid', '0x63a9db', '', '44.0Ξ', 'Dec 30, 2019 0xb51da6', 'Bid withdrawn', '0x63a9db', '', '0.01Ξ', 'Dec 30, 2019 0xdf8d87', 'Bid', '0x63a9db', '', '0.01Ξ', 'Dec 30, 2019 0xc9a439', 'Bid withdrawn', '0x7D438b', '', '18.5Ξ', 'May 23, 2019 0x7c9e27', 'Bid', '0x7D438b', '', '18.5Ξ', 'May 22, 2019 0xb0cc71', 'Bid withdrawn', '0xf7EE6C', '', '40.0Ξ', 'Apr 2, 2019 0x2a98ef', 'Bid', '0xf7EE6C', '', '40.0Ξ', 'Apr 2, 2019 0x08318f', 'Sold', '0xF5099e', '0xe08c32', '25.0Ξ', 'Nov 30, 2018 0x5687d0', 'Bid', '0xE08c32', '', '25.0Ξ', 'Nov 30, 2018 0x6db0f7', 'Offered', '', '', '100.0Ξ', 'Sep 12, 2018 0x5532db', 'Offered', '', '', '200.0Ξ', 'Dec 16, 2017 0xdc89aa', 'Bid', '0x7760E0', '', '13.000000000000000001Ξ', 'Jul 8, 2017 0x63896e', 'Bid', '0x00d7C9', '', '13.0Ξ', 'Jul 7, 2017 0x5e61c5', 'Offered', '', '', '400.0Ξ', 'Jul 7, 2017 0xd1b7cc', 'Transfer', '0xa0a59c', '0xf5099e', '', 'Jul 7, 2017 0x298fdc', 'Sold', '0x00d7C9', '0xa0a59c', '1.6Ξ', 'Jul 7, 2017 0x54c8c5', 'Bid', '0xa0a59c', '', '1.6Ξ', 'Jul 7, 2017 0xecec02', 'Bid', '0x7760E0', '', '1.525000000000000001Ξ', 'Jul 3, 2017 0x1bbd31', 'Bid', '0xa0a59c', '', '1.525Ξ', 'Jul 3, 2017 0x4478c6', 'Bid', '0x7760E0', '', '1.300000000000000001Ξ', 'Jul 3, 2017 0x22061f', 'Bid', '0xa0a59c', '', '1.3Ξ', 'Jul 2, 2017 0x636b29', 'Bid', '0x717403', '', '0.050000000000000007Ξ', 'Jun 25, 2017 0xdfbce0', 'Sold', '0xC352B5', '0x00d7c9', '0.98Ξ', 'Jun 24, 2017 0x24893e', 'Bid', '0x00d7C9', '', '0.98Ξ', 'Jun 24, 2017 0xc29572', 'Bid', '0x948a10', '', '0.67Ξ', 'Jun 24, 2017 0xbe1685', 'Claimed', '', '0xc352b5', '', 'Jun 23, 2017 0xdcc2d3']\n"
     ]
    }
   ],
   "source": [
    "# Open the webdriver:\n",
    "\n",
    "with webdriver.Chrome(executable_path = \"/Users/pau/Downloads/chromedriver\") as driver: \n",
    "    \n",
    "    # Open URL:\n",
    "    # Ahora sólo tenemos que añadir un for loop que vaya de 0 a 10.000 e insertarlo en la URL\n",
    "    url = \"https://defypunk.com/punks/0\"\n",
    "    driver.get(url)\n",
    "    \n",
    "    # Wait until HTML has charged:\n",
    "    element = wait(driver, 10).until(lambda x: x.find_element(By.TAG_NAME, \"table\"))\n",
    "    assert driver.find_element_by_class_name('table-auto')\n",
    "    \n",
    "    # Extract information:\n",
    "    info =[]\n",
    "\n",
    "    for elemental in element.find_elements_by_tag_name(\"td\"):    \n",
    "        info.append(elemental.text)\n",
    "    \n",
    "    print(info)\n",
    "    \n",
    "    # Al obtener el array definitivo haremos nuevo_array = np.reshape(info, (10000, 5)) para obtener un array \n",
    "    # parecido a un Pandas Dataframe\n",
    "    \n",
    "    # Luego parseamos una vez los nombres de las columnas y lo añadimos"
   ]
  },
  {
   "cell_type": "code",
   "execution_count": null,
   "id": "ea6145b0",
   "metadata": {
    "ExecuteTime": {
     "end_time": "2021-09-07T09:39:45.126658Z",
     "start_time": "2021-09-07T09:39:44.773Z"
    }
   },
   "outputs": [],
   "source": [
    "# Para convertir los arrays de columnas + información en un DataFrame también se puede:\n",
    "\n",
    "datos = {}\n",
    "for i in range(5):\n",
    "    datos[columnas[i]]=info[i::5]\n",
    "\n",
    "pd.DataFrame(datos)"
   ]
  }
 ],
 "metadata": {
  "kernelspec": {
   "display_name": "Python 3",
   "language": "python",
   "name": "python3"
  },
  "language_info": {
   "codemirror_mode": {
    "name": "ipython",
    "version": 3
   },
   "file_extension": ".py",
   "mimetype": "text/x-python",
   "name": "python",
   "nbconvert_exporter": "python",
   "pygments_lexer": "ipython3",
   "version": "3.8.8"
  },
  "varInspector": {
   "cols": {
    "lenName": 16,
    "lenType": 16,
    "lenVar": 40
   },
   "kernels_config": {
    "python": {
     "delete_cmd_postfix": "",
     "delete_cmd_prefix": "del ",
     "library": "var_list.py",
     "varRefreshCmd": "print(var_dic_list())"
    },
    "r": {
     "delete_cmd_postfix": ") ",
     "delete_cmd_prefix": "rm(",
     "library": "var_list.r",
     "varRefreshCmd": "cat(var_dic_list()) "
    }
   },
   "types_to_exclude": [
    "module",
    "function",
    "builtin_function_or_method",
    "instance",
    "_Feature"
   ],
   "window_display": false
  }
 },
 "nbformat": 4,
 "nbformat_minor": 5
}
