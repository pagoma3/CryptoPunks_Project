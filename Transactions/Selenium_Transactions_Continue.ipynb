{
 "cells": [
  {
   "cell_type": "markdown",
   "metadata": {},
   "source": [
    "### Transaccions webscrapping. Defypunk"
   ]
  },
  {
   "cell_type": "code",
   "execution_count": 36,
   "metadata": {},
   "outputs": [],
   "source": [
    "from selenium.webdriver import Chrome\n",
    "from selenium.webdriver.chrome.options import Options\n",
    "from selenium import webdriver\n",
    "from selenium.webdriver.common.desired_capabilities import DesiredCapabilities as selenium_DesiredCapabilities\n",
    "import pandas as pd \n",
    "import numpy as np"
   ]
  },
  {
   "cell_type": "code",
   "execution_count": 37,
   "metadata": {},
   "outputs": [],
   "source": [
    "from selenium import webdriver\n",
    "from selenium.webdriver.support.ui import WebDriverWait as wait\n",
    "from selenium.webdriver.support import expected_conditions as EC\n",
    "from selenium.webdriver.common.by import By"
   ]
  },
  {
   "cell_type": "code",
   "execution_count": 38,
   "metadata": {},
   "outputs": [
    {
     "name": "stdout",
     "output_type": "stream",
     "text": [
      "['Bid withdrawn', '0x983ace', '', '250.0Ξ', 'May 10, 2021 0x0987ef', 'Bid', '0x983ace', '', '250.0Ξ', 'Apr 11, 2021 0xdbf1a0', 'Bid withdrawn', '0xd7510a', '', '100.0Ξ', 'Mar 3, 2021 0x580c05', 'Bid', '0xd7510a', '', '100.0Ξ', 'Feb 21, 2021 0x5377c3', 'Bid withdrawn', '0x63a9db', '', '69.0Ξ', 'Sep 16, 2020 0xbce1fe', 'Bid', '0x63a9db', '', '69.0Ξ', 'Sep 15, 2020 0x140f1a', 'Bid withdrawn', '0x63a9db', '', '49.0Ξ', 'Jan 11, 2020 0x9f42a4', 'Bid', '0x63a9db', '', '49.0Ξ', 'Jan 9, 2020 0x2cfa7c', 'Bid withdrawn', '0x63a9db', '', '44.0Ξ', 'Jan 8, 2020 0x7fbe84', 'Bid', '0x63a9db', '', '44.0Ξ', 'Dec 30, 2019 0xb51da6', 'Bid withdrawn', '0x63a9db', '', '0.01Ξ', 'Dec 30, 2019 0xdf8d87', 'Bid', '0x63a9db', '', '0.01Ξ', 'Dec 30, 2019 0xc9a439', 'Bid withdrawn', '0x7D438b', '', '18.5Ξ', 'May 23, 2019 0x7c9e27', 'Bid', '0x7D438b', '', '18.5Ξ', 'May 22, 2019 0xb0cc71', 'Bid withdrawn', '0xf7EE6C', '', '40.0Ξ', 'Apr 2, 2019 0x2a98ef', 'Bid', '0xf7EE6C', '', '40.0Ξ', 'Apr 2, 2019 0x08318f', 'Sold', '0xF5099e', '0xe08c32', '25.0Ξ', 'Nov 30, 2018 0x5687d0', 'Bid', '0xE08c32', '', '25.0Ξ', 'Nov 30, 2018 0x6db0f7', 'Offered', '', '', '100.0Ξ', 'Sep 12, 2018 0x5532db', 'Offered', '', '', '200.0Ξ', 'Dec 16, 2017 0xdc89aa', 'Bid', '0x7760E0', '', '13.000000000000000001Ξ', 'Jul 8, 2017 0x63896e', 'Bid', '0x00d7C9', '', '13.0Ξ', 'Jul 7, 2017 0x5e61c5', 'Offered', '', '', '400.0Ξ', 'Jul 7, 2017 0xd1b7cc', 'Transfer', '0xa0a59c', '0xf5099e', '', 'Jul 7, 2017 0x298fdc', 'Sold', '0x00d7C9', '0xa0a59c', '1.6Ξ', 'Jul 7, 2017 0x54c8c5', 'Bid', '0xa0a59c', '', '1.6Ξ', 'Jul 7, 2017 0xecec02', 'Bid', '0x7760E0', '', '1.525000000000000001Ξ', 'Jul 3, 2017 0x1bbd31', 'Bid', '0xa0a59c', '', '1.525Ξ', 'Jul 3, 2017 0x4478c6', 'Bid', '0x7760E0', '', '1.300000000000000001Ξ', 'Jul 3, 2017 0x22061f', 'Bid', '0xa0a59c', '', '1.3Ξ', 'Jul 2, 2017 0x636b29', 'Bid', '0x717403', '', '0.050000000000000007Ξ', 'Jun 25, 2017 0xdfbce0', 'Sold', '0xC352B5', '0x00d7c9', '0.98Ξ', 'Jun 24, 2017 0x24893e', 'Bid', '0x00d7C9', '', '0.98Ξ', 'Jun 24, 2017 0xc29572', 'Bid', '0x948a10', '', '0.67Ξ', 'Jun 24, 2017 0xbe1685', 'Claimed', '', '0xc352b5', '', 'Jun 23, 2017 0xdcc2d3']\n"
     ]
    }
   ],
   "source": [
    "with webdriver.Chrome(executable_path = \"/Users/Marta/chromedriver\") as driver: \n",
    "    \n",
    "    # Open URL:\n",
    "    # Ahora sólo tenemos que añadir un for loop que vaya de 0 a 10.000 e insertarlo en la URL\n",
    "    url = \"https://defypunk.com/punks/0\"\n",
    "    driver.get(url)\n",
    "    \n",
    "    # Wait until HTML has charged:\n",
    "    element = wait(driver, 10).until(lambda x: x.find_element(By.TAG_NAME, \"table\"))\n",
    "    assert driver.find_element_by_class_name('table-auto')\n",
    "    \n",
    "    # Extract information:\n",
    "    info =[]\n",
    "\n",
    "    for elemental in element.find_elements_by_tag_name(\"td\"):    \n",
    "        info.append(elemental.text)\n",
    "    \n",
    "    print(info)"
   ]
  },
  {
   "cell_type": "code",
   "execution_count": 66,
   "metadata": {},
   "outputs": [
    {
     "data": {
      "text/plain": [
       "35"
      ]
     },
     "execution_count": 66,
     "metadata": {},
     "output_type": "execute_result"
    }
   ],
   "source": [
    "len(info)"
   ]
  },
  {
   "cell_type": "code",
   "execution_count": 67,
   "metadata": {},
   "outputs": [
    {
     "data": {
      "text/plain": [
       "array([['Bid withdrawn', '0x983ace', '', '250.0Ξ',\n",
       "        'May 10, 2021 0x0987ef'],\n",
       "       ['Bid', '0x983ace', '', '250.0Ξ', 'Apr 11, 2021 0xdbf1a0'],\n",
       "       ['Bid withdrawn', '0xd7510a', '', '100.0Ξ',\n",
       "        'Mar 3, 2021 0x580c05'],\n",
       "       ['Bid', '0xd7510a', '', '100.0Ξ', 'Feb 21, 2021 0x5377c3'],\n",
       "       ['Bid withdrawn', '0x63a9db', '', '69.0Ξ',\n",
       "        'Sep 16, 2020 0xbce1fe'],\n",
       "       ['Bid', '0x63a9db', '', '69.0Ξ', 'Sep 15, 2020 0x140f1a'],\n",
       "       ['Bid withdrawn', '0x63a9db', '', '49.0Ξ',\n",
       "        'Jan 11, 2020 0x9f42a4'],\n",
       "       ['Bid', '0x63a9db', '', '49.0Ξ', 'Jan 9, 2020 0x2cfa7c'],\n",
       "       ['Bid withdrawn', '0x63a9db', '', '44.0Ξ', 'Jan 8, 2020 0x7fbe84'],\n",
       "       ['Bid', '0x63a9db', '', '44.0Ξ', 'Dec 30, 2019 0xb51da6'],\n",
       "       ['Bid withdrawn', '0x63a9db', '', '0.01Ξ',\n",
       "        'Dec 30, 2019 0xdf8d87'],\n",
       "       ['Bid', '0x63a9db', '', '0.01Ξ', 'Dec 30, 2019 0xc9a439'],\n",
       "       ['Bid withdrawn', '0x7D438b', '', '18.5Ξ',\n",
       "        'May 23, 2019 0x7c9e27'],\n",
       "       ['Bid', '0x7D438b', '', '18.5Ξ', 'May 22, 2019 0xb0cc71'],\n",
       "       ['Bid withdrawn', '0xf7EE6C', '', '40.0Ξ', 'Apr 2, 2019 0x2a98ef'],\n",
       "       ['Bid', '0xf7EE6C', '', '40.0Ξ', 'Apr 2, 2019 0x08318f'],\n",
       "       ['Sold', '0xF5099e', '0xe08c32', '25.0Ξ', 'Nov 30, 2018 0x5687d0'],\n",
       "       ['Bid', '0xE08c32', '', '25.0Ξ', 'Nov 30, 2018 0x6db0f7'],\n",
       "       ['Offered', '', '', '100.0Ξ', 'Sep 12, 2018 0x5532db'],\n",
       "       ['Offered', '', '', '200.0Ξ', 'Dec 16, 2017 0xdc89aa'],\n",
       "       ['Bid', '0x7760E0', '', '13.000000000000000001Ξ',\n",
       "        'Jul 8, 2017 0x63896e'],\n",
       "       ['Bid', '0x00d7C9', '', '13.0Ξ', 'Jul 7, 2017 0x5e61c5'],\n",
       "       ['Offered', '', '', '400.0Ξ', 'Jul 7, 2017 0xd1b7cc'],\n",
       "       ['Transfer', '0xa0a59c', '0xf5099e', '', 'Jul 7, 2017 0x298fdc'],\n",
       "       ['Sold', '0x00d7C9', '0xa0a59c', '1.6Ξ', 'Jul 7, 2017 0x54c8c5'],\n",
       "       ['Bid', '0xa0a59c', '', '1.6Ξ', 'Jul 7, 2017 0xecec02'],\n",
       "       ['Bid', '0x7760E0', '', '1.525000000000000001Ξ',\n",
       "        'Jul 3, 2017 0x1bbd31'],\n",
       "       ['Bid', '0xa0a59c', '', '1.525Ξ', 'Jul 3, 2017 0x4478c6'],\n",
       "       ['Bid', '0x7760E0', '', '1.300000000000000001Ξ',\n",
       "        'Jul 3, 2017 0x22061f'],\n",
       "       ['Bid', '0xa0a59c', '', '1.3Ξ', 'Jul 2, 2017 0x636b29'],\n",
       "       ['Bid', '0x717403', '', '0.050000000000000007Ξ',\n",
       "        'Jun 25, 2017 0xdfbce0'],\n",
       "       ['Sold', '0xC352B5', '0x00d7c9', '0.98Ξ', 'Jun 24, 2017 0x24893e'],\n",
       "       ['Bid', '0x00d7C9', '', '0.98Ξ', 'Jun 24, 2017 0xc29572'],\n",
       "       ['Bid', '0x948a10', '', '0.67Ξ', 'Jun 24, 2017 0xbe1685'],\n",
       "       ['Claimed', '', '0xc352b5', '', 'Jun 23, 2017 0xdcc2d3']],\n",
       "      dtype='<U22')"
      ]
     },
     "execution_count": 67,
     "metadata": {},
     "output_type": "execute_result"
    }
   ],
   "source": [
    "info=np.array([info]).reshape(35, 5)\n",
    "info"
   ]
  },
  {
   "cell_type": "code",
   "execution_count": 87,
   "metadata": {},
   "outputs": [],
   "source": [
    "transacciones=pd.DataFrame(info, columns=['TYPE', 'FROM', 'TO', 'AMOUNT ETH', 'DATA TRANSACTION'])"
   ]
  },
  {
   "cell_type": "code",
   "execution_count": 88,
   "metadata": {},
   "outputs": [
    {
     "data": {
      "text/html": [
       "<div>\n",
       "<style scoped>\n",
       "    .dataframe tbody tr th:only-of-type {\n",
       "        vertical-align: middle;\n",
       "    }\n",
       "\n",
       "    .dataframe tbody tr th {\n",
       "        vertical-align: top;\n",
       "    }\n",
       "\n",
       "    .dataframe thead th {\n",
       "        text-align: right;\n",
       "    }\n",
       "</style>\n",
       "<table border=\"1\" class=\"dataframe\">\n",
       "  <thead>\n",
       "    <tr style=\"text-align: right;\">\n",
       "      <th></th>\n",
       "      <th>TYPE</th>\n",
       "      <th>FROM</th>\n",
       "      <th>TO</th>\n",
       "      <th>AMOUNT ETH</th>\n",
       "      <th>DATA TRANSACTION</th>\n",
       "    </tr>\n",
       "  </thead>\n",
       "  <tbody>\n",
       "    <tr>\n",
       "      <th>0</th>\n",
       "      <td>Bid withdrawn</td>\n",
       "      <td>0x983ace</td>\n",
       "      <td></td>\n",
       "      <td>250.0Ξ</td>\n",
       "      <td>May 10, 2021 0x0987ef</td>\n",
       "    </tr>\n",
       "    <tr>\n",
       "      <th>1</th>\n",
       "      <td>Bid</td>\n",
       "      <td>0x983ace</td>\n",
       "      <td></td>\n",
       "      <td>250.0Ξ</td>\n",
       "      <td>Apr 11, 2021 0xdbf1a0</td>\n",
       "    </tr>\n",
       "    <tr>\n",
       "      <th>2</th>\n",
       "      <td>Bid withdrawn</td>\n",
       "      <td>0xd7510a</td>\n",
       "      <td></td>\n",
       "      <td>100.0Ξ</td>\n",
       "      <td>Mar 3, 2021 0x580c05</td>\n",
       "    </tr>\n",
       "    <tr>\n",
       "      <th>3</th>\n",
       "      <td>Bid</td>\n",
       "      <td>0xd7510a</td>\n",
       "      <td></td>\n",
       "      <td>100.0Ξ</td>\n",
       "      <td>Feb 21, 2021 0x5377c3</td>\n",
       "    </tr>\n",
       "    <tr>\n",
       "      <th>4</th>\n",
       "      <td>Bid withdrawn</td>\n",
       "      <td>0x63a9db</td>\n",
       "      <td></td>\n",
       "      <td>69.0Ξ</td>\n",
       "      <td>Sep 16, 2020 0xbce1fe</td>\n",
       "    </tr>\n",
       "  </tbody>\n",
       "</table>\n",
       "</div>"
      ],
      "text/plain": [
       "            TYPE      FROM TO AMOUNT ETH       DATA TRANSACTION\n",
       "0  Bid withdrawn  0x983ace        250.0Ξ  May 10, 2021 0x0987ef\n",
       "1            Bid  0x983ace        250.0Ξ  Apr 11, 2021 0xdbf1a0\n",
       "2  Bid withdrawn  0xd7510a        100.0Ξ   Mar 3, 2021 0x580c05\n",
       "3            Bid  0xd7510a        100.0Ξ  Feb 21, 2021 0x5377c3\n",
       "4  Bid withdrawn  0x63a9db         69.0Ξ  Sep 16, 2020 0xbce1fe"
      ]
     },
     "execution_count": 88,
     "metadata": {},
     "output_type": "execute_result"
    }
   ],
   "source": [
    "transacciones.head()"
   ]
  },
  {
   "cell_type": "code",
   "execution_count": 89,
   "metadata": {},
   "outputs": [
    {
     "name": "stdout",
     "output_type": "stream",
     "text": [
      "<class 'pandas.core.frame.DataFrame'>\n",
      "RangeIndex: 35 entries, 0 to 34\n",
      "Data columns (total 5 columns):\n",
      " #   Column            Non-Null Count  Dtype \n",
      "---  ------            --------------  ----- \n",
      " 0   TYPE              35 non-null     object\n",
      " 1   FROM              35 non-null     object\n",
      " 2   TO                35 non-null     object\n",
      " 3   AMOUNT ETH        35 non-null     object\n",
      " 4   DATA TRANSACTION  35 non-null     object\n",
      "dtypes: object(5)\n",
      "memory usage: 1.5+ KB\n"
     ]
    }
   ],
   "source": [
    "transacciones.info()"
   ]
  },
  {
   "cell_type": "code",
   "execution_count": 90,
   "metadata": {},
   "outputs": [
    {
     "data": {
      "text/plain": [
       "0    250.0\n",
       "1    250.0\n",
       "2    100.0\n",
       "3    100.0\n",
       "4     69.0\n",
       "Name: AMOUNT ETH, dtype: object"
      ]
     },
     "execution_count": 90,
     "metadata": {},
     "output_type": "execute_result"
    }
   ],
   "source": [
    "#Eliminamos el simbolo del ETHERIUM inicial.\n",
    "\n",
    "transacciones['AMOUNT ETH'] = transacciones['AMOUNT ETH'].str[:-1]\n",
    "L = list(transacciones['AMOUNT ETH'])\n",
    "L.pop(0) \n",
    "transacciones['AMOUNT ETH'].head()"
   ]
  },
  {
   "cell_type": "code",
   "execution_count": 91,
   "metadata": {},
   "outputs": [],
   "source": [
    "#convertimos la columna a float\n",
    "\n",
    "transacciones['AMOUNT ETH']=pd.to_numeric(transacciones['AMOUNT ETH'], errors='coerce')"
   ]
  },
  {
   "cell_type": "code",
   "execution_count": 92,
   "metadata": {},
   "outputs": [
    {
     "data": {
      "text/plain": [
       "0    827152.50\n",
       "1    827152.50\n",
       "2    330861.00\n",
       "3    330861.00\n",
       "4    228294.09\n",
       "Name: AMOUNT $, dtype: float64"
      ]
     },
     "execution_count": 92,
     "metadata": {},
     "output_type": "execute_result"
    }
   ],
   "source": [
    "#añadimos la columna AMOUNT $ con el cambio de ETH a dolar\n",
    "\n",
    "transacciones['AMOUNT $']=transacciones['AMOUNT ETH'].apply(lambda x: x*3308.61) #(¿¿és posible fer-ho en real time??)\n",
    "transacciones['AMOUNT $'].head()"
   ]
  },
  {
   "cell_type": "code",
   "execution_count": 94,
   "metadata": {},
   "outputs": [],
   "source": [
    "# Genero la columna idTRANSACTION a partir del index\n",
    "\n",
    "transacciones['idTRANSACTION']=transacciones.index"
   ]
  },
  {
   "cell_type": "code",
   "execution_count": 95,
   "metadata": {},
   "outputs": [
    {
     "data": {
      "text/html": [
       "<div>\n",
       "<style scoped>\n",
       "    .dataframe tbody tr th:only-of-type {\n",
       "        vertical-align: middle;\n",
       "    }\n",
       "\n",
       "    .dataframe tbody tr th {\n",
       "        vertical-align: top;\n",
       "    }\n",
       "\n",
       "    .dataframe thead th {\n",
       "        text-align: right;\n",
       "    }\n",
       "</style>\n",
       "<table border=\"1\" class=\"dataframe\">\n",
       "  <thead>\n",
       "    <tr style=\"text-align: right;\">\n",
       "      <th></th>\n",
       "      <th>idTRANSACTION</th>\n",
       "      <th>TYPE</th>\n",
       "      <th>FROM</th>\n",
       "      <th>TO</th>\n",
       "      <th>AMOUNT ETH</th>\n",
       "      <th>AMOUNT $</th>\n",
       "      <th>DATA TRANSACTION</th>\n",
       "    </tr>\n",
       "  </thead>\n",
       "  <tbody>\n",
       "    <tr>\n",
       "      <th>0</th>\n",
       "      <td>0</td>\n",
       "      <td>Bid withdrawn</td>\n",
       "      <td>0x983ace</td>\n",
       "      <td></td>\n",
       "      <td>250.0</td>\n",
       "      <td>827152.5</td>\n",
       "      <td>May 10, 2021 0x0987ef</td>\n",
       "    </tr>\n",
       "    <tr>\n",
       "      <th>1</th>\n",
       "      <td>1</td>\n",
       "      <td>Bid</td>\n",
       "      <td>0x983ace</td>\n",
       "      <td></td>\n",
       "      <td>250.0</td>\n",
       "      <td>827152.5</td>\n",
       "      <td>Apr 11, 2021 0xdbf1a0</td>\n",
       "    </tr>\n",
       "    <tr>\n",
       "      <th>2</th>\n",
       "      <td>2</td>\n",
       "      <td>Bid withdrawn</td>\n",
       "      <td>0xd7510a</td>\n",
       "      <td></td>\n",
       "      <td>100.0</td>\n",
       "      <td>330861.0</td>\n",
       "      <td>Mar 3, 2021 0x580c05</td>\n",
       "    </tr>\n",
       "  </tbody>\n",
       "</table>\n",
       "</div>"
      ],
      "text/plain": [
       "   idTRANSACTION           TYPE      FROM TO  AMOUNT ETH  AMOUNT $  \\\n",
       "0              0  Bid withdrawn  0x983ace          250.0  827152.5   \n",
       "1              1            Bid  0x983ace          250.0  827152.5   \n",
       "2              2  Bid withdrawn  0xd7510a          100.0  330861.0   \n",
       "\n",
       "        DATA TRANSACTION  \n",
       "0  May 10, 2021 0x0987ef  \n",
       "1  Apr 11, 2021 0xdbf1a0  \n",
       "2   Mar 3, 2021 0x580c05  "
      ]
     },
     "execution_count": 95,
     "metadata": {},
     "output_type": "execute_result"
    }
   ],
   "source": [
    "#reordeno les columnes #¡¡¡¡¡¡¡¡MANQUEN COLUMNES IdCRYPTOPUNK i idOWNER!!!!!!\n",
    "\n",
    "transacciones=transacciones[['idTRANSACTION', 'TYPE', 'FROM', 'TO', 'AMOUNT ETH','AMOUNT $', 'DATA TRANSACTION']]\n",
    "transacciones.head(3)"
   ]
  },
  {
   "cell_type": "code",
   "execution_count": null,
   "metadata": {},
   "outputs": [],
   "source": []
  }
 ],
 "metadata": {
  "kernelspec": {
   "display_name": "Python 3",
   "language": "python",
   "name": "python3"
  },
  "language_info": {
   "codemirror_mode": {
    "name": "ipython",
    "version": 3
   },
   "file_extension": ".py",
   "mimetype": "text/x-python",
   "name": "python",
   "nbconvert_exporter": "python",
   "pygments_lexer": "ipython3",
   "version": "3.7.4"
  }
 },
 "nbformat": 4,
 "nbformat_minor": 5
}
