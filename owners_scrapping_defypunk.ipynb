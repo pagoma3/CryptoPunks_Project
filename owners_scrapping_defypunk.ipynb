{
 "cells": [
  {
   "cell_type": "markdown",
   "id": "d2a04744",
   "metadata": {},
   "source": [
    "### Owners webscrapping. Defypunk"
   ]
  },
  {
   "cell_type": "code",
   "execution_count": 61,
   "id": "33c00c08",
   "metadata": {},
   "outputs": [
    {
     "name": "stderr",
     "output_type": "stream",
     "text": [
      "<ipython-input-61-8add83a117a3>:7: DeprecationWarning: use setter for headless property instead of set_headless\n",
      "  opts.set_headless()\n"
     ]
    }
   ],
   "source": [
    "from selenium.webdriver import Firefox\n",
    "from selenium.webdriver.firefox.options import Options\n",
    "from selenium import webdriver\n",
    "import pandas as pd \n",
    "\n",
    "opts = Options()\n",
    "opts.set_headless()\n",
    "assert opts.headless  # Operating in headless mode\n",
    "\n",
    "from selenium import webdriver as selenium_webdriver\n",
    "from selenium.webdriver.firefox.options import Options as selenium_options\n",
    "from selenium.webdriver.common.desired_capabilities import DesiredCapabilities as selenium_DesiredCapabilities"
   ]
  },
  {
   "cell_type": "code",
   "execution_count": 62,
   "id": "8f431470",
   "metadata": {},
   "outputs": [],
   "source": [
    "driver = Firefox(options=opts)\n",
    "driver.implicitly_wait(15)"
   ]
  },
  {
   "cell_type": "code",
   "execution_count": 63,
   "id": "9b5b4727",
   "metadata": {},
   "outputs": [],
   "source": [
    "url='https://defypunk.com/punks/owners'\n",
    "driver.get(url)"
   ]
  },
  {
   "cell_type": "code",
   "execution_count": 64,
   "id": "bf9d04cd",
   "metadata": {},
   "outputs": [],
   "source": [
    "ownerslist=[]\n",
    "owners = driver.find_elements_by_class_name('ag-react-container')\n",
    "for ow in owners:\n",
    "    ownerslist.append(ow.text)"
   ]
  },
  {
   "cell_type": "code",
   "execution_count": 65,
   "id": "d0395232",
   "metadata": {},
   "outputs": [],
   "source": [
    "df = pd.DataFrame(ownerslist)"
   ]
  },
  {
   "cell_type": "code",
   "execution_count": 49,
   "id": "3bd36544",
   "metadata": {},
   "outputs": [],
   "source": [
    "df.to_csv('owners.csv')"
   ]
  },
  {
   "cell_type": "code",
   "execution_count": null,
   "id": "3c84de16",
   "metadata": {},
   "outputs": [],
   "source": []
  }
 ],
 "metadata": {
  "kernelspec": {
   "display_name": "Python 3",
   "language": "python",
   "name": "python3"
  },
  "language_info": {
   "codemirror_mode": {
    "name": "ipython",
    "version": 3
   },
   "file_extension": ".py",
   "mimetype": "text/x-python",
   "name": "python",
   "nbconvert_exporter": "python",
   "pygments_lexer": "ipython3",
   "version": "3.8.5"
  }
 },
 "nbformat": 4,
 "nbformat_minor": 5
}
